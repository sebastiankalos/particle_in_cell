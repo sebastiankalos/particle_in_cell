{
 "cells": [
  {
   "cell_type": "code",
   "execution_count": 2,
   "metadata": {},
   "outputs": [],
   "source": [
    "import numpy as np\n",
    "from matplotlib import pyplot as plt"
   ]
  },
  {
   "cell_type": "code",
   "execution_count": 121,
   "metadata": {},
   "outputs": [
    {
     "data": {
      "image/png": "[encoded data removed]",
      "text/plain": [
       "<Figure size 504x360 with 1 Axes>"
      ]
     },
     "metadata": {
      "needs_background": "light"
     },
     "output_type": "display_data"
    }
   ],
   "source": [
    "plt.figure(figsize=(7,5))\n",
    "\n",
    "Lx = 1\n",
    "Ly = 1\n",
    "h = 0.35\n",
    "ax = 0.3\n",
    "ay = 0.4\n",
    "x = ax + 1/3*h\n",
    "y = ay+2/3*h\n",
    "plt.plot(ax,ay,\"o\",color=\"tab:blue\",markersize=10,markeredgecolor=\"black\",markeredgewidth=1)\n",
    "plt.plot(ax,ay+h,\"o\",color=\"tab:orange\",markersize=12,markeredgecolor=\"black\",markeredgewidth=1)\n",
    "plt.plot(ax+h,ay,\"o\",color=\"yellow\",markersize=6,markeredgecolor=\"black\",markeredgewidth=1)\n",
    "plt.plot(ax+h,ay+h,\"o\",color=\"tab:green\",markersize=8,markeredgecolor=\"black\",markeredgewidth=1)\n",
    "\n",
    "plt.text(x=ax-1/10*h,y=ay-1/10*h,s=\"a\")\n",
    "plt.text(x=ax+h+1/20*h,y=ay-1/10*h,s=\"b\")\n",
    "plt.text(x=ax+h+1/20*h,y=ay+h+1/10*h,s=\"c\")\n",
    "plt.text(x=ax-1/10*h,y=ay+h+1/10*h,s=\"d\")\n",
    "\n",
    "plt.vlines(x=ax,ymin=ay,ymax=ay+h,color=\"black\",linewidth=1,alpha=0.5)\n",
    "plt.vlines(x=ax+h,ymin=ay,ymax=ay+h,color=\"black\",linewidth=1,alpha=0.5)\n",
    "plt.hlines(y=ay,xmin=ax,xmax=ax+h,color=\"black\",linewidth=1,alpha=0.5)\n",
    "plt.hlines(y=ay+h,xmin=ax,xmax=ax+h,color=\"black\",linewidth=1,alpha=0.5)\n",
    "\n",
    "plt.vlines(x=ax,ymin=0,ymax=ay,color=\"black\",linestyle='--',linewidth=1,alpha=0.5)\n",
    "plt.hlines(y=ay,xmin=0,xmax=ax,color=\"black\",linestyle='--',linewidth=1,alpha=0.5)\n",
    "plt.text(x=ax+h/30,y=h/20,s=r\"$x_a$\")\n",
    "plt.text(x=h/30,y=ay+h/20,s=r\"$y_a$\")\n",
    "\n",
    "plt.plot(x,y,\"o\",color=\"red\",label=\"particle\",markeredgecolor=\"black\",markeredgewidth=1)\n",
    "\n",
    "plt.fill_between(x=np.linspace(ax,ax+1/3*h,10),y1=np.full(10,ay),y2=np.full(10,ay+2/3*h),color=\"tab:green\")\n",
    "plt.fill_between(x=np.linspace(ax+1/3*h,ax+h,10),y1=np.full(10,ay),y2=np.full(10,ay+2/3*h),color=\"tab:orange\")\n",
    "plt.fill_between(x=np.linspace(ax+1/3*h,ax+h,10),y1=np.full(10,ay+2/3*h),y2=np.full(10,ay+h),color=\"tab:blue\")\n",
    "plt.fill_between(x=np.linspace(ax,ax+1/3*h,10),y1=np.full(10,ay+2/3*h),y2=np.full(10,ay+h),color=\"yellow\")\n",
    "\n",
    "plt.xlabel(\"x [arb. units]\")\n",
    "plt.ylabel(\"y [arb. units]\")\n",
    "plt.xlim([0,Lx])\n",
    "plt.ylim([0,Ly])\n",
    "plt.legend()\n",
    "\n",
    "plt.savefig('cell_projection.png', dpi=300)"
   ]
  }
 ],
 "metadata": {
  "interpreter": {
   "hash": "52b71e0a5e7c668cfb433e0977660514dfad5b3ba865264d0e29fa7893b8cf08"
  },
  "kernelspec": {
   "display_name": "Python 3.7.3 64-bit ('anaconda3': conda)",
   "language": "python",
   "name": "python3"
  },
  "language_info": {
   "codemirror_mode": {
    "name": "ipython",
    "version": 3
   },
   "file_extension": ".py",
   "mimetype": "text/x-python",
   "name": "python",
   "nbconvert_exporter": "python",
   "pygments_lexer": "ipython3",
   "version": "3.7.3"
  },
  "orig_nbformat": 4
 },
 "nbformat": 4,
 "nbformat_minor": 2
}
